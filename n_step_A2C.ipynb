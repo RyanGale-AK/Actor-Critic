{
  "nbformat": 4,
  "nbformat_minor": 0,
  "metadata": {
    "colab": {
      "name": "n_step_A2C_v2.ipynb",
      "provenance": [],
      "collapsed_sections": []
    },
    "kernelspec": {
      "name": "python3",
      "display_name": "Python 3"
    }
  },
  "cells": [
    {
      "cell_type": "code",
      "metadata": {
        "id": "H7karpTVzvOu",
        "colab_type": "code",
        "colab": {
          "base_uri": "https://localhost:8080/",
          "height": 462
        },
        "outputId": "5908eacd-a17e-4fa9-9523-7f61a5db1153"
      },
      "source": [
        "!pip install wandb"
      ],
      "execution_count": 1,
      "outputs": [
        {
          "output_type": "stream",
          "text": [
            "Requirement already satisfied: wandb in /usr/local/lib/python3.6/dist-packages (0.9.4)\n",
            "Requirement already satisfied: shortuuid>=0.5.0 in /usr/local/lib/python3.6/dist-packages (from wandb) (1.0.1)\n",
            "Requirement already satisfied: Click>=7.0 in /usr/local/lib/python3.6/dist-packages (from wandb) (7.1.2)\n",
            "Requirement already satisfied: requests>=2.0.0 in /usr/local/lib/python3.6/dist-packages (from wandb) (2.23.0)\n",
            "Requirement already satisfied: PyYAML>=3.10 in /usr/local/lib/python3.6/dist-packages (from wandb) (3.13)\n",
            "Requirement already satisfied: six>=1.10.0 in /usr/local/lib/python3.6/dist-packages (from wandb) (1.15.0)\n",
            "Requirement already satisfied: python-dateutil>=2.6.1 in /usr/local/lib/python3.6/dist-packages (from wandb) (2.8.1)\n",
            "Requirement already satisfied: psutil>=5.0.0 in /usr/local/lib/python3.6/dist-packages (from wandb) (5.4.8)\n",
            "Requirement already satisfied: subprocess32>=3.5.3 in /usr/local/lib/python3.6/dist-packages (from wandb) (3.5.4)\n",
            "Requirement already satisfied: configparser>=3.8.1 in /usr/local/lib/python3.6/dist-packages (from wandb) (5.0.0)\n",
            "Requirement already satisfied: GitPython>=1.0.0 in /usr/local/lib/python3.6/dist-packages (from wandb) (3.1.7)\n",
            "Requirement already satisfied: gql==0.2.0 in /usr/local/lib/python3.6/dist-packages (from wandb) (0.2.0)\n",
            "Requirement already satisfied: watchdog>=0.8.3 in /usr/local/lib/python3.6/dist-packages (from wandb) (0.10.3)\n",
            "Requirement already satisfied: docker-pycreds>=0.4.0 in /usr/local/lib/python3.6/dist-packages (from wandb) (0.4.0)\n",
            "Requirement already satisfied: nvidia-ml-py3>=7.352.0 in /usr/local/lib/python3.6/dist-packages (from wandb) (7.352.0)\n",
            "Requirement already satisfied: sentry-sdk>=0.4.0 in /usr/local/lib/python3.6/dist-packages (from wandb) (0.16.3)\n",
            "Requirement already satisfied: urllib3!=1.25.0,!=1.25.1,<1.26,>=1.21.1 in /usr/local/lib/python3.6/dist-packages (from requests>=2.0.0->wandb) (1.24.3)\n",
            "Requirement already satisfied: certifi>=2017.4.17 in /usr/local/lib/python3.6/dist-packages (from requests>=2.0.0->wandb) (2020.6.20)\n",
            "Requirement already satisfied: idna<3,>=2.5 in /usr/local/lib/python3.6/dist-packages (from requests>=2.0.0->wandb) (2.10)\n",
            "Requirement already satisfied: chardet<4,>=3.0.2 in /usr/local/lib/python3.6/dist-packages (from requests>=2.0.0->wandb) (3.0.4)\n",
            "Requirement already satisfied: gitdb<5,>=4.0.1 in /usr/local/lib/python3.6/dist-packages (from GitPython>=1.0.0->wandb) (4.0.5)\n",
            "Requirement already satisfied: graphql-core<2,>=0.5.0 in /usr/local/lib/python3.6/dist-packages (from gql==0.2.0->wandb) (1.1)\n",
            "Requirement already satisfied: promise<3,>=2.0 in /usr/local/lib/python3.6/dist-packages (from gql==0.2.0->wandb) (2.3)\n",
            "Requirement already satisfied: pathtools>=0.1.1 in /usr/local/lib/python3.6/dist-packages (from watchdog>=0.8.3->wandb) (0.1.2)\n",
            "Requirement already satisfied: smmap<4,>=3.0.1 in /usr/local/lib/python3.6/dist-packages (from gitdb<5,>=4.0.1->GitPython>=1.0.0->wandb) (3.0.4)\n"
          ],
          "name": "stdout"
        }
      ]
    },
    {
      "cell_type": "code",
      "metadata": {
        "id": "bt1h7On7kd3z",
        "colab_type": "code",
        "colab": {}
      },
      "source": [
        "import gym\n",
        "import os\n",
        "import torch\n",
        "import wandb\n",
        "import torch.optim as optim\n",
        "from itertools import count\n",
        "import torch.nn as nn\n",
        "import numpy as np\n",
        "import torch.nn.functional as F\n",
        "import matplotlib\n",
        "from matplotlib import pyplot as plt"
      ],
      "execution_count": 2,
      "outputs": []
    },
    {
      "cell_type": "code",
      "metadata": {
        "id": "oQeEfE3nPn8v",
        "colab_type": "code",
        "colab": {
          "base_uri": "https://localhost:8080/",
          "height": 51
        },
        "outputId": "5c850aa4-13c7-4717-8b21-1ca128cb649d"
      },
      "source": [
        "!wandb login 9c6dd4b0a9335b3cfcfbb62569cf65cd4e537266"
      ],
      "execution_count": 3,
      "outputs": [
        {
          "output_type": "stream",
          "text": [
            "\u001b[34m\u001b[1mwandb\u001b[0m: Appending key for api.wandb.ai to your netrc file: /root/.netrc\n",
            "\u001b[32mSuccessfully logged in to Weights & Biases!\u001b[0m\n"
          ],
          "name": "stdout"
        }
      ]
    },
    {
      "cell_type": "code",
      "metadata": {
        "id": "yHH8i3x-kyjB",
        "colab_type": "code",
        "colab": {}
      },
      "source": [
        "class Critic(nn.Module):\n",
        "  def __init__(self, d_in, hidden_dim):\n",
        "    super(Critic, self).__init__()\n",
        "    self.lin1 = nn.Linear(d_in, hidden_dim)\n",
        "    self.lin2 = nn.Linear(hidden_dim, hidden_dim)\n",
        "    self.lin3 = nn.Linear(hidden_dim, 1)\n",
        "\n",
        "  def forward(self, x):\n",
        "    x = x.double()\n",
        "    x = F.relu(self.lin1(x))\n",
        "    x = F.relu(self.lin2(x))\n",
        "    return self.lin3(x)\n",
        "\n",
        "class Actor(nn.Module):\n",
        "  def __init__(self, d_in, hidden_dim, d_out):\n",
        "    super(Actor, self).__init__()\n",
        "    self.lin1 = nn.Linear(d_in, hidden_dim)\n",
        "    self.lin2 = nn.Linear(hidden_dim, hidden_dim)\n",
        "    self.lin3 = nn.Linear(hidden_dim, d_out)\n",
        "    self.soft = nn.Softmax(dim=0)\n",
        "\n",
        "  def forward(self, x):\n",
        "    x = x.double()\n",
        "    x = F.relu(self.lin1(x))\n",
        "    x = F.relu(self.lin2(x))\n",
        "    return self.soft(self.lin3(x))"
      ],
      "execution_count": 4,
      "outputs": []
    },
    {
      "cell_type": "code",
      "metadata": {
        "id": "s_fBfVSrj8HB",
        "colab_type": "code",
        "colab": {}
      },
      "source": [
        "def log(durations,durations_means,losses_act,losses_crit,mean_action_confidences,solved_episode):\n",
        "  max_hundred = durations_means.max()\n",
        "  mean_hundred = durations_means[-1]\n",
        "\n",
        "  # losses\n",
        "  losses_act_t = torch.tensor(losses_act, dtype=torch.float)\n",
        "  loss_act_means = losses_act_t.unfold(0, min(len(durations),100), 1).mean(1).view(-1)\n",
        "  # 100-episode mean actor loss\n",
        "  mean_act_loss = loss_act_means[-1]\n",
        "\n",
        "  losses_crit_t = torch.tensor(losses_crit, dtype=torch.float)\n",
        "  loss_crit_means = losses_crit_t.unfold(0, min(len(durations),100), 1).mean(1).view(-1)\n",
        "  # 100-episode mean actor loss\n",
        "  mean_crit_loss = loss_crit_means[-1]\n",
        "\n",
        "  mean_action_confidences_t = torch.tensor(mean_action_confidences, dtype=torch.float)\n",
        "  mean_confidences = mean_action_confidences_t.unfold(0, min(len(durations),100), 1).mean(1).view(-1)\n",
        "  # 100-episode mean action confidence\n",
        "  mean_hundred_confidence = mean_confidences[-1]\n",
        "\n",
        "  wandb.log({\"Max Duration\": max_hundred, \n",
        "            \"Solved Timestep\": solved_episode,\n",
        "            \"Mean Duration\": mean_hundred, \n",
        "          #  \"Episode Duration\": t+1, \n",
        "            \"Actor Loss\": mean_act_loss,\n",
        "          \"Critic Loss\": mean_crit_loss, \n",
        "          #  \"Mean Action-Confidence\": mean_action_confidences[-1], \n",
        "            \"Action-Confidence\": mean_hundred_confidence})"
      ],
      "execution_count": 5,
      "outputs": []
    },
    {
      "cell_type": "code",
      "metadata": {
        "id": "OpL4BvwAmL30",
        "colab_type": "code",
        "colab": {
          "base_uri": "https://localhost:8080/",
          "height": 102
        },
        "outputId": "7e50b953-a1cf-40b9-d874-9f15fcd732d5"
      },
      "source": [
        "### HYPERPARAMETERS ###\n",
        "\n",
        "env = gym.make('CartPole-v0')\n",
        "print('Observation max: ' + str(env.observation_space.high))\n",
        "print('Observation min: ' + str(env.observation_space.low))\n",
        "\n",
        "device = torch.device(\"cuda\" if torch.cuda.is_available() else \"cpu\")\n",
        "print(\"using \" + str(device))\n",
        "\n",
        "n_actions = env.action_space.n\n",
        "n_state = env.observation_space.shape[0]-2\n",
        "n_episodes = 500\n",
        "\n",
        "# hyperparameter sweep\n",
        "sweep_config = {\n",
        "    'method': 'grid', #grid, random\n",
        "    'metric': {\n",
        "      'name': 'Solved Timestep',\n",
        "      'goal': 'minimize'   \n",
        "    },\n",
        "    # 'controller': {\n",
        "    #   'type': 'local'\n",
        "    # },\n",
        "    'parameters': {\n",
        "        # 'lr_actor': {\n",
        "        #     'values': [0.01,0.001,0.0001]\n",
        "        # },\n",
        "        # 'lr_critic': {\n",
        "        #     'values': [0.05,0.005,0.0005]\n",
        "        # },\n",
        "        'n_steps': {\n",
        "            'values': [3,5,10,15]\n",
        "        },\n",
        "        'hidden_dim': {\n",
        "            'values': [16,32,64]\n",
        "        },\n",
        "        # 'gamma': {\n",
        "        #     'values': [.99,0.999]\n",
        "        # },\n",
        "        # 'actor_lr_drop': {\n",
        "        #     'values': [100,200,300,400,500]\n",
        "        # },\n",
        "        # 'critic_lr_drop': {\n",
        "        #     'values': [100,200,300,400,500]\n",
        "        # }\n",
        "    }\n",
        "}\n",
        "\n",
        "sweep_id = wandb.sweep(sweep_config, project=\"a2c\")"
      ],
      "execution_count": 6,
      "outputs": [
        {
          "output_type": "stream",
          "text": [
            "Observation max: [4.8000002e+00 3.4028235e+38 4.1887903e-01 3.4028235e+38]\n",
            "Observation min: [-4.8000002e+00 -3.4028235e+38 -4.1887903e-01 -3.4028235e+38]\n",
            "using cpu\n",
            "Create sweep with ID: ee1p4wrv\n",
            "Sweep URL: https://app.wandb.ai/nj-nj23essdf-sl-/a2c/sweeps/ee1p4wrv\n"
          ],
          "name": "stdout"
        }
      ]
    },
    {
      "cell_type": "code",
      "metadata": {
        "id": "IheXCWxqJvds",
        "colab_type": "code",
        "colab": {}
      },
      "source": [
        "def train():\n",
        "\n",
        "  config_defaults = dict(\n",
        "    lr_actor = .001,\n",
        "    lr_critic = .005,\n",
        "    n_steps = 2,\n",
        "    hidden_dim = 64,\n",
        "    gamma = 0.999,\n",
        "    actor_lr_drop = 400,\n",
        "    critic_lr_drop = 400\n",
        "  )\n",
        "\n",
        "  wandb.init(project=\"a2c\",config=config_defaults)\n",
        "  config = wandb.config\n",
        "\n",
        "  lr_actor = config.lr_actor\n",
        "  lr_critic = config.lr_critic\n",
        "  n = config.n_steps\n",
        "  hidden_dim = config.hidden_dim\n",
        "  gamma = config.gamma\n",
        "  # drop by factor of 10 every [actor_lr_drop] episodes  \n",
        "  actor_lr_drop = config.actor_lr_drop\n",
        "  critic_lr_drop = config.critic_lr_drop\n",
        "\n",
        "  # actions:{0,1} apply force {+1 move right, -1 move left}\n",
        "  # Actor represents policy, given a state provide the probability of taking each action\n",
        "  actor = Actor(d_in=n_state, hidden_dim=config.hidden_dim, d_out=n_actions).double().to(device)\n",
        "\n",
        "  # Critic represents value function, given a state return the estimated value\n",
        "  critic = Critic(d_in=n_state,hidden_dim=config.hidden_dim).double().to(device)\n",
        "\n",
        "  optimizer_actor = optim.Adam(actor.parameters(),lr=lr_actor)\n",
        "  optimizer_critic = optim.Adam(critic.parameters(),lr=lr_critic)\n",
        "  criterion_critic = nn.L1Loss()\n",
        "\n",
        "  wandb.watch(actor)\n",
        "  wandb.watch(critic)\n",
        "\n",
        "  durations = []\n",
        "  losses_act = []\n",
        "  losses_crit = []\n",
        "  mean_action_confidences = []\n",
        "\n",
        "  max_hundred = 0.\n",
        "  mean_hundred = 0.\n",
        "\n",
        "  for index, episode in enumerate(range(n_episodes)):\n",
        "    episode_confidences = []\n",
        "    state = env.reset()\n",
        "    # only last two state observations are needed: angle and angular velocity\n",
        "    state = torch.DoubleTensor(state)[-2:].to(device)\n",
        "\n",
        "    # lr scheduler for actor, drop by factor of 10 every actor_lr_drop episodes  \n",
        "    if (index+1) % actor_lr_drop == 0:\n",
        "      lr_actor *= .1\n",
        "      optimizer_actor = optim.Adam(actor.parameters(),lr=lr_actor)\n",
        "\n",
        "    if (index+1) % critic_lr_drop == 0:\n",
        "      lr_critic *= .1\n",
        "      optimizer_critic = optim.Adam(critic.parameters(),lr=lr_actor)\n",
        "\n",
        "    I = 1. # anneal policy update\n",
        "\n",
        "    # log progress\n",
        "    acc_loss_actor = 0.\n",
        "    acc_loss_critic = 0.\n",
        "    action_confidence = 0.\n",
        "    solved_episode = 500\n",
        "    n_actor_losses = []\n",
        "    n_critic_losses = []\n",
        "\n",
        "    action = actor(state)\n",
        "\n",
        "    for t in count():    \n",
        "      # choose action stochastically\n",
        "      step_action = np.random.choice(n_actions,p=action.detach().cpu().numpy())\n",
        "      episode_confidences.append(action.detach().cpu().max())\n",
        "      state_prime, reward, done, info = env.step(step_action)\n",
        "      done_mask = 0. if done else 1.\n",
        "\n",
        "      done_mask = torch.as_tensor(done_mask).requires_grad_().to(device)\n",
        "      reward = torch.as_tensor(reward).requires_grad_().to(device)\n",
        "      state_prime = torch.tensor(state_prime[-2:], requires_grad=True).to(device)\n",
        "\n",
        "      value = critic(state)\n",
        "      value_prime = critic(state_prime)\n",
        "      \n",
        "      # update actor in direction of higher value (or quality)\n",
        "      quality = reward + gamma*value_prime*done_mask # definition of Q(s,a)\n",
        "      g_prime = quality - value # update expected return G of the action taken \n",
        "      advantage = g_prime\n",
        "\n",
        "      target = torch.tensor([step_action])\n",
        "      log_prob = torch.log(action)[target]\n",
        "\n",
        "      # update actor's policy in direction of increasing advantage\n",
        "      actor_loss = -I * log_prob * advantage.detach()\n",
        "      n_actor_losses.append(actor_loss)\n",
        "\n",
        "      # weigh the predicted value of our state \n",
        "      # against the n-step predicted future value\n",
        "      # after taking action 'a'\n",
        "      critic_loss = criterion_critic(value, quality)\n",
        "      n_critic_losses.append(critic_loss)\n",
        "      \n",
        "      # only update every n-steps\n",
        "      if (t+1) % n == 0:\n",
        "\n",
        "        ### UPDATE ACTOR ###\n",
        "        optimizer_actor.zero_grad()\n",
        "        torch.autograd.backward(n_actor_losses,retain_graph=True)\n",
        "        optimizer_actor.step()\n",
        "\n",
        "        ### UPDATE CRITIC ###\n",
        "        optimizer_critic.zero_grad()\n",
        "        torch.autograd.backward(n_critic_losses,retain_graph=True)\n",
        "        optimizer_critic.step()\n",
        "\n",
        "        n_actor_losses = []\n",
        "        n_critic_losses = []\n",
        "        acc_loss_actor += actor_loss.detach().cpu()\n",
        "        acc_loss_critic += critic_loss.detach().cpu()\n",
        "\n",
        "      action_prime = actor(state_prime)\n",
        "      action = action_prime\n",
        "      state = state_prime\n",
        "      I *= gamma # anneal policy update\n",
        "      \n",
        "      if done:\n",
        "        durations.append(t+1)\n",
        "        losses_act.append(acc_loss_actor/(t+1))\n",
        "        losses_crit.append(acc_loss_critic/(t+1))\n",
        "        mean_action_confidences.append(np.array(episode_confidences).mean())\n",
        "\n",
        "        \"\"\"cartpole is solved when the agent can balance the pole\n",
        "        for an average of at least 195 timesteps over 100 consecutive  \n",
        "        episodes\"\"\"\n",
        "        durations_t = torch.tensor(durations, dtype=torch.float)\n",
        "        # log 100-episode means\n",
        "        durations_means = durations_t.unfold(0, min(len(durations),100), 1).mean(1).view(-1)\n",
        "        # max 100-episode mean duration\n",
        "        max_hundred = durations_means.max()\n",
        "\n",
        "        # solved?\n",
        "        if max_hundred < 195.:\n",
        "          log(durations,durations_means,losses_act,losses_crit,\n",
        "              mean_action_confidences,solved_episode)\n",
        "        else:\n",
        "          # early stop if model has triumphed\n",
        "          solved_episode = index\n",
        "          log(durations,durations_means,losses_act,losses_crit,\n",
        "              mean_action_confidences,solved_episode)\n",
        "          env.close()\n",
        "          # Save models\n",
        "          torch.save(actor.state_dict(), os.path.join(wandb.run.dir, 'actor.pt'))\n",
        "          torch.save(critic.state_dict(), os.path.join(wandb.run.dir, 'critic.pt'))\n",
        "          return\n",
        "        break\n",
        "\n",
        "  env.close()\n",
        "  # Save models\n",
        "  torch.save(actor.state_dict(), os.path.join(wandb.run.dir, 'actor.pt'))\n",
        "  torch.save(critic.state_dict(), os.path.join(wandb.run.dir, 'critic.pt'))\n",
        "  return"
      ],
      "execution_count": 7,
      "outputs": []
    },
    {
      "cell_type": "code",
      "metadata": {
        "id": "Z39xfMvuA8-S",
        "colab_type": "code",
        "colab": {}
      },
      "source": [
        "# !wandb controller $sweep_id"
      ],
      "execution_count": 8,
      "outputs": []
    },
    {
      "cell_type": "code",
      "metadata": {
        "id": "jz_PjF9q-ipA",
        "colab_type": "code",
        "colab": {
          "base_uri": "https://localhost:8080/",
          "height": 1000
        },
        "outputId": "f8cd4b5c-3399-43ee-bf8c-37a6b6003488"
      },
      "source": [
        "wandb.agent(sweep_id, train)"
      ],
      "execution_count": 9,
      "outputs": [
        {
          "output_type": "stream",
          "text": [
            "wandb: Agent Starting Run: gljrszd6 with config:\n",
            "\thidden_dim: 16\n",
            "\tn_steps: 1\n",
            "wandb: Agent Started Run: gljrszd6\n"
          ],
          "name": "stdout"
        },
        {
          "output_type": "display_data",
          "data": {
            "text/html": [
              "\n",
              "                Logging results to <a href=\"https://wandb.com\" target=\"_blank\">Weights & Biases</a> <a href=\"https://docs.wandb.com/integrations/jupyter.html\" target=\"_blank\">(Documentation)</a>.<br/>\n",
              "                Project page: <a href=\"https://app.wandb.ai/nj-nj23essdf-sl-/a2c\" target=\"_blank\">https://app.wandb.ai/nj-nj23essdf-sl-/a2c</a><br/>\n",
              "                Sweep page: <a href=\"https://app.wandb.ai/nj-nj23essdf-sl-/a2c/sweeps/ee1p4wrv\" target=\"_blank\">https://app.wandb.ai/nj-nj23essdf-sl-/a2c/sweeps/ee1p4wrv</a><br/>\n",
              "Run page: <a href=\"https://app.wandb.ai/nj-nj23essdf-sl-/a2c/runs/gljrszd6\" target=\"_blank\">https://app.wandb.ai/nj-nj23essdf-sl-/a2c/runs/gljrszd6</a><br/>\n",
              "            "
            ],
            "text/plain": [
              "<IPython.core.display.HTML object>"
            ]
          },
          "metadata": {
            "tags": []
          }
        },
        {
          "output_type": "stream",
          "text": [
            "wandb: Agent Finished Run: gljrszd6 \n",
            "\n",
            "wandb: Agent Starting Run: g1yjvqpf with config:\n",
            "\thidden_dim: 16\n",
            "\tn_steps: 3\n",
            "wandb: Agent Started Run: g1yjvqpf\n"
          ],
          "name": "stdout"
        },
        {
          "output_type": "display_data",
          "data": {
            "text/html": [
              "\n",
              "                Logging results to <a href=\"https://wandb.com\" target=\"_blank\">Weights & Biases</a> <a href=\"https://docs.wandb.com/integrations/jupyter.html\" target=\"_blank\">(Documentation)</a>.<br/>\n",
              "                Project page: <a href=\"https://app.wandb.ai/nj-nj23essdf-sl-/a2c\" target=\"_blank\">https://app.wandb.ai/nj-nj23essdf-sl-/a2c</a><br/>\n",
              "                Sweep page: <a href=\"https://app.wandb.ai/nj-nj23essdf-sl-/a2c/sweeps/ee1p4wrv\" target=\"_blank\">https://app.wandb.ai/nj-nj23essdf-sl-/a2c/sweeps/ee1p4wrv</a><br/>\n",
              "Run page: <a href=\"https://app.wandb.ai/nj-nj23essdf-sl-/a2c/runs/g1yjvqpf\" target=\"_blank\">https://app.wandb.ai/nj-nj23essdf-sl-/a2c/runs/g1yjvqpf</a><br/>\n",
              "            "
            ],
            "text/plain": [
              "<IPython.core.display.HTML object>"
            ]
          },
          "metadata": {
            "tags": []
          }
        },
        {
          "output_type": "stream",
          "text": [
            "wandb: Agent Finished Run: g1yjvqpf \n",
            "\n",
            "wandb: Agent Starting Run: 0hazt5dt with config:\n",
            "\thidden_dim: 16\n",
            "\tn_steps: 5\n",
            "wandb: Agent Started Run: 0hazt5dt\n"
          ],
          "name": "stdout"
        },
        {
          "output_type": "display_data",
          "data": {
            "text/html": [
              "\n",
              "                Logging results to <a href=\"https://wandb.com\" target=\"_blank\">Weights & Biases</a> <a href=\"https://docs.wandb.com/integrations/jupyter.html\" target=\"_blank\">(Documentation)</a>.<br/>\n",
              "                Project page: <a href=\"https://app.wandb.ai/nj-nj23essdf-sl-/a2c\" target=\"_blank\">https://app.wandb.ai/nj-nj23essdf-sl-/a2c</a><br/>\n",
              "                Sweep page: <a href=\"https://app.wandb.ai/nj-nj23essdf-sl-/a2c/sweeps/ee1p4wrv\" target=\"_blank\">https://app.wandb.ai/nj-nj23essdf-sl-/a2c/sweeps/ee1p4wrv</a><br/>\n",
              "Run page: <a href=\"https://app.wandb.ai/nj-nj23essdf-sl-/a2c/runs/0hazt5dt\" target=\"_blank\">https://app.wandb.ai/nj-nj23essdf-sl-/a2c/runs/0hazt5dt</a><br/>\n",
              "            "
            ],
            "text/plain": [
              "<IPython.core.display.HTML object>"
            ]
          },
          "metadata": {
            "tags": []
          }
        },
        {
          "output_type": "stream",
          "text": [
            "wandb: Agent Finished Run: 0hazt5dt \n",
            "\n",
            "wandb: Agent Starting Run: 4ld4nef9 with config:\n",
            "\thidden_dim: 16\n",
            "\tn_steps: 10\n",
            "wandb: Agent Started Run: 4ld4nef9\n"
          ],
          "name": "stdout"
        },
        {
          "output_type": "display_data",
          "data": {
            "text/html": [
              "\n",
              "                Logging results to <a href=\"https://wandb.com\" target=\"_blank\">Weights & Biases</a> <a href=\"https://docs.wandb.com/integrations/jupyter.html\" target=\"_blank\">(Documentation)</a>.<br/>\n",
              "                Project page: <a href=\"https://app.wandb.ai/nj-nj23essdf-sl-/a2c\" target=\"_blank\">https://app.wandb.ai/nj-nj23essdf-sl-/a2c</a><br/>\n",
              "                Sweep page: <a href=\"https://app.wandb.ai/nj-nj23essdf-sl-/a2c/sweeps/ee1p4wrv\" target=\"_blank\">https://app.wandb.ai/nj-nj23essdf-sl-/a2c/sweeps/ee1p4wrv</a><br/>\n",
              "Run page: <a href=\"https://app.wandb.ai/nj-nj23essdf-sl-/a2c/runs/4ld4nef9\" target=\"_blank\">https://app.wandb.ai/nj-nj23essdf-sl-/a2c/runs/4ld4nef9</a><br/>\n",
              "            "
            ],
            "text/plain": [
              "<IPython.core.display.HTML object>"
            ]
          },
          "metadata": {
            "tags": []
          }
        },
        {
          "output_type": "stream",
          "text": [
            "wandb: Agent Finished Run: 4ld4nef9 \n",
            "\n",
            "wandb: Agent Starting Run: la9mobyx with config:\n",
            "\thidden_dim: 16\n",
            "\tn_steps: 15\n",
            "wandb: Agent Started Run: la9mobyx\n"
          ],
          "name": "stdout"
        },
        {
          "output_type": "display_data",
          "data": {
            "text/html": [
              "\n",
              "                Logging results to <a href=\"https://wandb.com\" target=\"_blank\">Weights & Biases</a> <a href=\"https://docs.wandb.com/integrations/jupyter.html\" target=\"_blank\">(Documentation)</a>.<br/>\n",
              "                Project page: <a href=\"https://app.wandb.ai/nj-nj23essdf-sl-/a2c\" target=\"_blank\">https://app.wandb.ai/nj-nj23essdf-sl-/a2c</a><br/>\n",
              "                Sweep page: <a href=\"https://app.wandb.ai/nj-nj23essdf-sl-/a2c/sweeps/ee1p4wrv\" target=\"_blank\">https://app.wandb.ai/nj-nj23essdf-sl-/a2c/sweeps/ee1p4wrv</a><br/>\n",
              "Run page: <a href=\"https://app.wandb.ai/nj-nj23essdf-sl-/a2c/runs/la9mobyx\" target=\"_blank\">https://app.wandb.ai/nj-nj23essdf-sl-/a2c/runs/la9mobyx</a><br/>\n",
              "            "
            ],
            "text/plain": [
              "<IPython.core.display.HTML object>"
            ]
          },
          "metadata": {
            "tags": []
          }
        },
        {
          "output_type": "stream",
          "text": [
            "wandb: Agent Finished Run: la9mobyx \n",
            "\n",
            "wandb: Agent Starting Run: ziq80kis with config:\n",
            "\thidden_dim: 32\n",
            "\tn_steps: 1\n",
            "wandb: Agent Started Run: ziq80kis\n"
          ],
          "name": "stdout"
        },
        {
          "output_type": "display_data",
          "data": {
            "text/html": [
              "\n",
              "                Logging results to <a href=\"https://wandb.com\" target=\"_blank\">Weights & Biases</a> <a href=\"https://docs.wandb.com/integrations/jupyter.html\" target=\"_blank\">(Documentation)</a>.<br/>\n",
              "                Project page: <a href=\"https://app.wandb.ai/nj-nj23essdf-sl-/a2c\" target=\"_blank\">https://app.wandb.ai/nj-nj23essdf-sl-/a2c</a><br/>\n",
              "                Sweep page: <a href=\"https://app.wandb.ai/nj-nj23essdf-sl-/a2c/sweeps/ee1p4wrv\" target=\"_blank\">https://app.wandb.ai/nj-nj23essdf-sl-/a2c/sweeps/ee1p4wrv</a><br/>\n",
              "Run page: <a href=\"https://app.wandb.ai/nj-nj23essdf-sl-/a2c/runs/ziq80kis\" target=\"_blank\">https://app.wandb.ai/nj-nj23essdf-sl-/a2c/runs/ziq80kis</a><br/>\n",
              "            "
            ],
            "text/plain": [
              "<IPython.core.display.HTML object>"
            ]
          },
          "metadata": {
            "tags": []
          }
        },
        {
          "output_type": "stream",
          "text": [
            "wandb: Agent Finished Run: ziq80kis \n",
            "\n",
            "wandb: Agent Starting Run: 6c8l7p4c with config:\n",
            "\thidden_dim: 32\n",
            "\tn_steps: 3\n",
            "wandb: Agent Started Run: 6c8l7p4c\n"
          ],
          "name": "stdout"
        },
        {
          "output_type": "display_data",
          "data": {
            "text/html": [
              "\n",
              "                Logging results to <a href=\"https://wandb.com\" target=\"_blank\">Weights & Biases</a> <a href=\"https://docs.wandb.com/integrations/jupyter.html\" target=\"_blank\">(Documentation)</a>.<br/>\n",
              "                Project page: <a href=\"https://app.wandb.ai/nj-nj23essdf-sl-/a2c\" target=\"_blank\">https://app.wandb.ai/nj-nj23essdf-sl-/a2c</a><br/>\n",
              "                Sweep page: <a href=\"https://app.wandb.ai/nj-nj23essdf-sl-/a2c/sweeps/ee1p4wrv\" target=\"_blank\">https://app.wandb.ai/nj-nj23essdf-sl-/a2c/sweeps/ee1p4wrv</a><br/>\n",
              "Run page: <a href=\"https://app.wandb.ai/nj-nj23essdf-sl-/a2c/runs/6c8l7p4c\" target=\"_blank\">https://app.wandb.ai/nj-nj23essdf-sl-/a2c/runs/6c8l7p4c</a><br/>\n",
              "            "
            ],
            "text/plain": [
              "<IPython.core.display.HTML object>"
            ]
          },
          "metadata": {
            "tags": []
          }
        },
        {
          "output_type": "stream",
          "text": [
            "wandb: Agent Finished Run: 6c8l7p4c \n",
            "\n",
            "wandb: Agent Starting Run: ruqv42jb with config:\n",
            "\thidden_dim: 32\n",
            "\tn_steps: 5\n",
            "wandb: Agent Started Run: ruqv42jb\n"
          ],
          "name": "stdout"
        },
        {
          "output_type": "display_data",
          "data": {
            "text/html": [
              "\n",
              "                Logging results to <a href=\"https://wandb.com\" target=\"_blank\">Weights & Biases</a> <a href=\"https://docs.wandb.com/integrations/jupyter.html\" target=\"_blank\">(Documentation)</a>.<br/>\n",
              "                Project page: <a href=\"https://app.wandb.ai/nj-nj23essdf-sl-/a2c\" target=\"_blank\">https://app.wandb.ai/nj-nj23essdf-sl-/a2c</a><br/>\n",
              "                Sweep page: <a href=\"https://app.wandb.ai/nj-nj23essdf-sl-/a2c/sweeps/ee1p4wrv\" target=\"_blank\">https://app.wandb.ai/nj-nj23essdf-sl-/a2c/sweeps/ee1p4wrv</a><br/>\n",
              "Run page: <a href=\"https://app.wandb.ai/nj-nj23essdf-sl-/a2c/runs/ruqv42jb\" target=\"_blank\">https://app.wandb.ai/nj-nj23essdf-sl-/a2c/runs/ruqv42jb</a><br/>\n",
              "            "
            ],
            "text/plain": [
              "<IPython.core.display.HTML object>"
            ]
          },
          "metadata": {
            "tags": []
          }
        },
        {
          "output_type": "stream",
          "text": [
            "wandb: Agent Finished Run: ruqv42jb \n",
            "\n",
            "wandb: Agent Starting Run: crj1dgsw with config:\n",
            "\thidden_dim: 32\n",
            "\tn_steps: 10\n",
            "wandb: Agent Started Run: crj1dgsw\n"
          ],
          "name": "stdout"
        },
        {
          "output_type": "display_data",
          "data": {
            "text/html": [
              "\n",
              "                Logging results to <a href=\"https://wandb.com\" target=\"_blank\">Weights & Biases</a> <a href=\"https://docs.wandb.com/integrations/jupyter.html\" target=\"_blank\">(Documentation)</a>.<br/>\n",
              "                Project page: <a href=\"https://app.wandb.ai/nj-nj23essdf-sl-/a2c\" target=\"_blank\">https://app.wandb.ai/nj-nj23essdf-sl-/a2c</a><br/>\n",
              "                Sweep page: <a href=\"https://app.wandb.ai/nj-nj23essdf-sl-/a2c/sweeps/ee1p4wrv\" target=\"_blank\">https://app.wandb.ai/nj-nj23essdf-sl-/a2c/sweeps/ee1p4wrv</a><br/>\n",
              "Run page: <a href=\"https://app.wandb.ai/nj-nj23essdf-sl-/a2c/runs/crj1dgsw\" target=\"_blank\">https://app.wandb.ai/nj-nj23essdf-sl-/a2c/runs/crj1dgsw</a><br/>\n",
              "            "
            ],
            "text/plain": [
              "<IPython.core.display.HTML object>"
            ]
          },
          "metadata": {
            "tags": []
          }
        },
        {
          "output_type": "stream",
          "text": [
            "wandb: Agent Finished Run: crj1dgsw \n",
            "\n",
            "wandb: Agent Starting Run: 8g68kyd9 with config:\n",
            "\thidden_dim: 32\n",
            "\tn_steps: 15\n",
            "wandb: Agent Started Run: 8g68kyd9\n"
          ],
          "name": "stdout"
        },
        {
          "output_type": "display_data",
          "data": {
            "text/html": [
              "\n",
              "                Logging results to <a href=\"https://wandb.com\" target=\"_blank\">Weights & Biases</a> <a href=\"https://docs.wandb.com/integrations/jupyter.html\" target=\"_blank\">(Documentation)</a>.<br/>\n",
              "                Project page: <a href=\"https://app.wandb.ai/nj-nj23essdf-sl-/a2c\" target=\"_blank\">https://app.wandb.ai/nj-nj23essdf-sl-/a2c</a><br/>\n",
              "                Sweep page: <a href=\"https://app.wandb.ai/nj-nj23essdf-sl-/a2c/sweeps/ee1p4wrv\" target=\"_blank\">https://app.wandb.ai/nj-nj23essdf-sl-/a2c/sweeps/ee1p4wrv</a><br/>\n",
              "Run page: <a href=\"https://app.wandb.ai/nj-nj23essdf-sl-/a2c/runs/8g68kyd9\" target=\"_blank\">https://app.wandb.ai/nj-nj23essdf-sl-/a2c/runs/8g68kyd9</a><br/>\n",
              "            "
            ],
            "text/plain": [
              "<IPython.core.display.HTML object>"
            ]
          },
          "metadata": {
            "tags": []
          }
        },
        {
          "output_type": "stream",
          "text": [
            "wandb: Agent Finished Run: 8g68kyd9 \n",
            "\n",
            "wandb: Agent Starting Run: 5xfmg9vq with config:\n",
            "\thidden_dim: 64\n",
            "\tn_steps: 1\n",
            "wandb: Agent Started Run: 5xfmg9vq\n"
          ],
          "name": "stdout"
        },
        {
          "output_type": "display_data",
          "data": {
            "text/html": [
              "\n",
              "                Logging results to <a href=\"https://wandb.com\" target=\"_blank\">Weights & Biases</a> <a href=\"https://docs.wandb.com/integrations/jupyter.html\" target=\"_blank\">(Documentation)</a>.<br/>\n",
              "                Project page: <a href=\"https://app.wandb.ai/nj-nj23essdf-sl-/a2c\" target=\"_blank\">https://app.wandb.ai/nj-nj23essdf-sl-/a2c</a><br/>\n",
              "                Sweep page: <a href=\"https://app.wandb.ai/nj-nj23essdf-sl-/a2c/sweeps/ee1p4wrv\" target=\"_blank\">https://app.wandb.ai/nj-nj23essdf-sl-/a2c/sweeps/ee1p4wrv</a><br/>\n",
              "Run page: <a href=\"https://app.wandb.ai/nj-nj23essdf-sl-/a2c/runs/5xfmg9vq\" target=\"_blank\">https://app.wandb.ai/nj-nj23essdf-sl-/a2c/runs/5xfmg9vq</a><br/>\n",
              "            "
            ],
            "text/plain": [
              "<IPython.core.display.HTML object>"
            ]
          },
          "metadata": {
            "tags": []
          }
        },
        {
          "output_type": "stream",
          "text": [
            "wandb: Agent Finished Run: 5xfmg9vq \n",
            "\n",
            "wandb: Agent Starting Run: mwyp5rvm with config:\n",
            "\thidden_dim: 64\n",
            "\tn_steps: 3\n",
            "wandb: Agent Started Run: mwyp5rvm\n"
          ],
          "name": "stdout"
        },
        {
          "output_type": "display_data",
          "data": {
            "text/html": [
              "\n",
              "                Logging results to <a href=\"https://wandb.com\" target=\"_blank\">Weights & Biases</a> <a href=\"https://docs.wandb.com/integrations/jupyter.html\" target=\"_blank\">(Documentation)</a>.<br/>\n",
              "                Project page: <a href=\"https://app.wandb.ai/nj-nj23essdf-sl-/a2c\" target=\"_blank\">https://app.wandb.ai/nj-nj23essdf-sl-/a2c</a><br/>\n",
              "                Sweep page: <a href=\"https://app.wandb.ai/nj-nj23essdf-sl-/a2c/sweeps/ee1p4wrv\" target=\"_blank\">https://app.wandb.ai/nj-nj23essdf-sl-/a2c/sweeps/ee1p4wrv</a><br/>\n",
              "Run page: <a href=\"https://app.wandb.ai/nj-nj23essdf-sl-/a2c/runs/mwyp5rvm\" target=\"_blank\">https://app.wandb.ai/nj-nj23essdf-sl-/a2c/runs/mwyp5rvm</a><br/>\n",
              "            "
            ],
            "text/plain": [
              "<IPython.core.display.HTML object>"
            ]
          },
          "metadata": {
            "tags": []
          }
        },
        {
          "output_type": "stream",
          "text": [
            "wandb: Agent Finished Run: mwyp5rvm \n",
            "\n",
            "wandb: Agent Starting Run: zcfgx6dt with config:\n",
            "\thidden_dim: 64\n",
            "\tn_steps: 5\n",
            "wandb: Agent Started Run: zcfgx6dt\n"
          ],
          "name": "stdout"
        },
        {
          "output_type": "display_data",
          "data": {
            "text/html": [
              "\n",
              "                Logging results to <a href=\"https://wandb.com\" target=\"_blank\">Weights & Biases</a> <a href=\"https://docs.wandb.com/integrations/jupyter.html\" target=\"_blank\">(Documentation)</a>.<br/>\n",
              "                Project page: <a href=\"https://app.wandb.ai/nj-nj23essdf-sl-/a2c\" target=\"_blank\">https://app.wandb.ai/nj-nj23essdf-sl-/a2c</a><br/>\n",
              "                Sweep page: <a href=\"https://app.wandb.ai/nj-nj23essdf-sl-/a2c/sweeps/ee1p4wrv\" target=\"_blank\">https://app.wandb.ai/nj-nj23essdf-sl-/a2c/sweeps/ee1p4wrv</a><br/>\n",
              "Run page: <a href=\"https://app.wandb.ai/nj-nj23essdf-sl-/a2c/runs/zcfgx6dt\" target=\"_blank\">https://app.wandb.ai/nj-nj23essdf-sl-/a2c/runs/zcfgx6dt</a><br/>\n",
              "            "
            ],
            "text/plain": [
              "<IPython.core.display.HTML object>"
            ]
          },
          "metadata": {
            "tags": []
          }
        },
        {
          "output_type": "stream",
          "text": [
            "wandb: Agent Finished Run: zcfgx6dt \n",
            "\n",
            "wandb: Agent Starting Run: bkk17j6q with config:\n",
            "\thidden_dim: 64\n",
            "\tn_steps: 10\n",
            "wandb: Agent Started Run: bkk17j6q\n"
          ],
          "name": "stdout"
        },
        {
          "output_type": "display_data",
          "data": {
            "text/html": [
              "\n",
              "                Logging results to <a href=\"https://wandb.com\" target=\"_blank\">Weights & Biases</a> <a href=\"https://docs.wandb.com/integrations/jupyter.html\" target=\"_blank\">(Documentation)</a>.<br/>\n",
              "                Project page: <a href=\"https://app.wandb.ai/nj-nj23essdf-sl-/a2c\" target=\"_blank\">https://app.wandb.ai/nj-nj23essdf-sl-/a2c</a><br/>\n",
              "                Sweep page: <a href=\"https://app.wandb.ai/nj-nj23essdf-sl-/a2c/sweeps/ee1p4wrv\" target=\"_blank\">https://app.wandb.ai/nj-nj23essdf-sl-/a2c/sweeps/ee1p4wrv</a><br/>\n",
              "Run page: <a href=\"https://app.wandb.ai/nj-nj23essdf-sl-/a2c/runs/bkk17j6q\" target=\"_blank\">https://app.wandb.ai/nj-nj23essdf-sl-/a2c/runs/bkk17j6q</a><br/>\n",
              "            "
            ],
            "text/plain": [
              "<IPython.core.display.HTML object>"
            ]
          },
          "metadata": {
            "tags": []
          }
        },
        {
          "output_type": "stream",
          "text": [
            "wandb: Agent Finished Run: bkk17j6q \n",
            "\n",
            "wandb: Agent Starting Run: 836g1m3h with config:\n",
            "\thidden_dim: 64\n",
            "\tn_steps: 15\n",
            "wandb: Agent Started Run: 836g1m3h\n"
          ],
          "name": "stdout"
        },
        {
          "output_type": "display_data",
          "data": {
            "text/html": [
              "\n",
              "                Logging results to <a href=\"https://wandb.com\" target=\"_blank\">Weights & Biases</a> <a href=\"https://docs.wandb.com/integrations/jupyter.html\" target=\"_blank\">(Documentation)</a>.<br/>\n",
              "                Project page: <a href=\"https://app.wandb.ai/nj-nj23essdf-sl-/a2c\" target=\"_blank\">https://app.wandb.ai/nj-nj23essdf-sl-/a2c</a><br/>\n",
              "                Sweep page: <a href=\"https://app.wandb.ai/nj-nj23essdf-sl-/a2c/sweeps/ee1p4wrv\" target=\"_blank\">https://app.wandb.ai/nj-nj23essdf-sl-/a2c/sweeps/ee1p4wrv</a><br/>\n",
              "Run page: <a href=\"https://app.wandb.ai/nj-nj23essdf-sl-/a2c/runs/836g1m3h\" target=\"_blank\">https://app.wandb.ai/nj-nj23essdf-sl-/a2c/runs/836g1m3h</a><br/>\n",
              "            "
            ],
            "text/plain": [
              "<IPython.core.display.HTML object>"
            ]
          },
          "metadata": {
            "tags": []
          }
        },
        {
          "output_type": "stream",
          "text": [
            "wandb: Agent Finished Run: 836g1m3h \n",
            "\n"
          ],
          "name": "stdout"
        }
      ]
    },
    {
      "cell_type": "code",
      "metadata": {
        "id": "DHGthwXfG_Oo",
        "colab_type": "code",
        "colab": {}
      },
      "source": [
        "# train()"
      ],
      "execution_count": 10,
      "outputs": []
    }
  ]
}